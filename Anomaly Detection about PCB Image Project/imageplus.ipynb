{
 "cells": [
  {
   "cell_type": "code",
   "execution_count": 1,
   "metadata": {},
   "outputs": [
    {
     "name": "stdout",
     "output_type": "stream",
     "text": [
      "C:/Data/crop4/screw/normal\\PCB_4 (2).jpg\n",
      "C:/Data/crop4/screw/normal\\PCB_4 (3).jpg\n",
      "C:/Data/crop4/screw/normal\\PCB_4 (5).jpg\n"
     ]
    }
   ],
   "source": [
    "import numpy as np\n",
    "import os\n",
    "from os import listdir\n",
    "from os.path import isfile, join\n",
    "from PIL import Image\n",
    " \n",
    " \n",
    " \n",
    "np.random.seed(3)\n",
    " \n",
    "from keras.preprocessing.image import ImageDataGenerator, array_to_img, img_to_array, load_img\n",
    " \n",
    " \n",
    "data_datagen = ImageDataGenerator(rescale=1./255)\n",
    " \n",
    "data_datagen = ImageDataGenerator(rescale=1./255,\n",
    "                                   rotation_range=30, \n",
    "                                   shear_range=5.5,  \n",
    "                                   # width_shift_range=0.1,\n",
    "                                   # height_shift_range=0.1,\n",
    "                                   zoom_range=0.,\n",
    "                                   horizontal_flip=True,\n",
    "                                   vertical_flip=True,\n",
    "                                   fill_mode='nearest') \n",
    " \n",
    " \n",
    "filename_in_dir = [] \n",
    " \n",
    "for root, dirs, files in os.walk('C:/Data/crop4/screw/normal'):\n",
    "    for  fname in files:\n",
    "        full_fname = os.path.join(root, fname)\n",
    "        filename_in_dir.append(full_fname)\n",
    " \n",
    "for file_image in filename_in_dir:\n",
    "    print(file_image)\n",
    "    img = load_img(file_image) \n",
    "    x = img_to_array(img)\n",
    "    x = x.reshape((1,) + x.shape)\n",
    " \n",
    "    i = 0\n",
    " \n",
    "    for batch in data_datagen.flow(x,save_to_dir='C:/Data/crop4/screw/augmentation/normal', save_prefix='photo', save_format='jpg'):\n",
    "        i += 1\n",
    "        if i > 30:\n",
    "            break\n"
   ]
  }
 ],
 "metadata": {
  "kernelspec": {
   "display_name": "Python 3.9.12 ('cuda')",
   "language": "python",
   "name": "python3"
  },
  "language_info": {
   "codemirror_mode": {
    "name": "ipython",
    "version": 3
   },
   "file_extension": ".py",
   "mimetype": "text/x-python",
   "name": "python",
   "nbconvert_exporter": "python",
   "pygments_lexer": "ipython3",
   "version": "3.9.12"
  },
  "orig_nbformat": 4,
  "vscode": {
   "interpreter": {
    "hash": "4cc07df22394edc0ea419beba05554e70dd20cb4ceb0c45b0a046f4d8091cc01"
   }
  }
 },
 "nbformat": 4,
 "nbformat_minor": 2
}
