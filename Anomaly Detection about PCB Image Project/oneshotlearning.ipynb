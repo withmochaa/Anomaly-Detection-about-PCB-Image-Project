{
 "cells": [],
 "metadata": {
  "kernelspec": {
   "display_name": "Python 3.9.12 ('cuda')",
   "language": "python",
   "name": "python3"
  },
  "language_info": {
   "codemirror_mode": {
    "name": "ipython",
    "version": 3
   },
   "file_extension": ".py",
   "mimetype": "text/x-python",
   "name": "python",
   "nbconvert_exporter": "python",
   "pygments_lexer": "ipython3",
   "version": "3.9.12"
  },
  "orig_nbformat": 4,
  "vscode": {
   "interpreter": {
    "hash": "4cc07df22394edc0ea419beba05554e70dd20cb4ceb0c45b0a046f4d8091cc01"
   }
  }
 },
 "nbformat": 4,
 "nbformat_minor": 2
}
